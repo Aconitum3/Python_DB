{
 "cells": [
  {
   "cell_type": "code",
   "execution_count": 1,
   "id": "28d590e8-bda6-4fd8-a6b9-6028f1ef8fbf",
   "metadata": {},
   "outputs": [],
   "source": [
    "import MySQLdb"
   ]
  },
  {
   "cell_type": "code",
   "execution_count": 3,
   "id": "d7e8f9fc-77db-4a7f-9d16-0133d90b61da",
   "metadata": {},
   "outputs": [],
   "source": [
    "conn = MySQLdb.connect(\n",
    "    host = \"db\",\n",
    "    user = \"root\",\n",
    "    password = \"root\",\n",
    "    db = \"db\"\n",
    ")"
   ]
  },
  {
   "cell_type": "code",
   "execution_count": 4,
   "id": "b64e0807-45de-4d82-a524-96f78d532db9",
   "metadata": {},
   "outputs": [],
   "source": [
    "cur = conn.cursor()"
   ]
  },
  {
   "cell_type": "code",
   "execution_count": 5,
   "id": "2fa3a054-bc99-4cc0-957d-e79938734ce5",
   "metadata": {},
   "outputs": [
    {
     "data": {
      "text/plain": [
       "((1, 'Taro'), (2, 'Jiro'), (3, 'Hanako'), (4, 'Pochi'))"
      ]
     },
     "execution_count": 5,
     "metadata": {},
     "output_type": "execute_result"
    }
   ],
   "source": [
    "cur.execute(\"SELECT * FROM mytable;\")\n",
    "cur.fetchall()  "
   ]
  },
  {
   "cell_type": "code",
   "execution_count": null,
   "id": "4438f81c-6744-4177-b125-32713a48d0bd",
   "metadata": {},
   "outputs": [],
   "source": []
  }
 ],
 "metadata": {
  "kernelspec": {
   "display_name": "Python 3 (ipykernel)",
   "language": "python",
   "name": "python3"
  },
  "language_info": {
   "codemirror_mode": {
    "name": "ipython",
    "version": 3
   },
   "file_extension": ".py",
   "mimetype": "text/x-python",
   "name": "python",
   "nbconvert_exporter": "python",
   "pygments_lexer": "ipython3",
   "version": "3.7.16"
  }
 },
 "nbformat": 4,
 "nbformat_minor": 5
}
