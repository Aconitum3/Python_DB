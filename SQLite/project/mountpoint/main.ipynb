{
 "cells": [
  {
   "cell_type": "code",
   "execution_count": 1,
   "id": "586ac246-1bd1-4d8b-b33d-9b0aeb73dac9",
   "metadata": {},
   "outputs": [],
   "source": [
    "import sqlite3"
   ]
  },
  {
   "cell_type": "code",
   "execution_count": 2,
   "id": "53ad76e3-2102-475e-926a-70cd2a0407b6",
   "metadata": {},
   "outputs": [],
   "source": [
    "conn = sqlite3.connect(\"/mydb\")"
   ]
  },
  {
   "cell_type": "code",
   "execution_count": 3,
   "id": "cff64a25-40c7-4e5a-ba69-48b9b7c6b911",
   "metadata": {},
   "outputs": [],
   "source": [
    "cur = conn.cursor()"
   ]
  },
  {
   "cell_type": "code",
   "execution_count": 5,
   "id": "c09ff169-37c1-4d81-b881-9ed8897557ab",
   "metadata": {},
   "outputs": [
    {
     "data": {
      "text/plain": [
       "[('1', 'Taro'), ('2', 'Jiro'), ('3', 'Hanako'), ('4', 'Pochi')]"
      ]
     },
     "execution_count": 5,
     "metadata": {},
     "output_type": "execute_result"
    }
   ],
   "source": [
    "cur.execute(\"SELECT * FROM mytable\")\n",
    "cur.fetchall()"
   ]
  }
 ],
 "metadata": {
  "kernelspec": {
   "display_name": "Python 3 (ipykernel)",
   "language": "python",
   "name": "python3"
  },
  "language_info": {
   "codemirror_mode": {
    "name": "ipython",
    "version": 3
   },
   "file_extension": ".py",
   "mimetype": "text/x-python",
   "name": "python",
   "nbconvert_exporter": "python",
   "pygments_lexer": "ipython3",
   "version": "3.7.16"
  }
 },
 "nbformat": 4,
 "nbformat_minor": 5
}
